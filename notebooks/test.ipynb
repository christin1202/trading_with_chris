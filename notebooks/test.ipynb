{
 "cells": [
  {
   "cell_type": "code",
   "execution_count": 11,
   "metadata": {},
   "outputs": [],
   "source": [
    "import numpy as np\n",
    "import pandas as pd\n",
    "import quandl as quandl\n",
    "import yahoo_fin.stock_info as si\n",
    "import requests\n",
    "import snscrape.modules.twitter as sntwitter"
   ]
  },
  {
   "cell_type": "code",
   "execution_count": 6,
   "metadata": {},
   "outputs": [],
   "source": [
    "# stock trading, balance sheet, fundermental(P/E), economic data like gdp, inflation rate, unemployment rate\n",
    "# yahoo_fin: historical stock prices (daily / weekly / monthly), realtime-prices, fundamentals data, income statements, cash flows, analyst info, current cryptocurrency prices, option chains, earnings history\n",
    "# https://algotrading101.com/learn/yahoo-finance-api-guide/\n",
    "# https://algotrading101.com/learn/quandl-guide/\n",
    "# For quandl and yahoo finance, it's not recommended to build mission critical systems where you have a lot of money on the line!\n",
    "# Use an official alternative that is connected directly to exchange data instead, like IEX or Polygon."
   ]
  },
  {
   "cell_type": "code",
   "execution_count": 7,
   "metadata": {},
   "outputs": [],
   "source": [
    "quandl.ApiConfig.api_key = \"SKq39CBqXUj8chCvXWci\""
   ]
  },
  {
   "cell_type": "code",
   "execution_count": 8,
   "metadata": {},
   "outputs": [
    {
     "data": {
      "text/html": [
       "<div>\n",
       "<style scoped>\n",
       "    .dataframe tbody tr th:only-of-type {\n",
       "        vertical-align: middle;\n",
       "    }\n",
       "\n",
       "    .dataframe tbody tr th {\n",
       "        vertical-align: top;\n",
       "    }\n",
       "\n",
       "    .dataframe thead th {\n",
       "        text-align: right;\n",
       "    }\n",
       "</style>\n",
       "<table border=\"1\" class=\"dataframe\">\n",
       "  <thead>\n",
       "    <tr style=\"text-align: right;\">\n",
       "      <th></th>\n",
       "      <th>Open</th>\n",
       "      <th>High</th>\n",
       "      <th>Low</th>\n",
       "      <th>Close</th>\n",
       "      <th>Volume</th>\n",
       "      <th>Ex-Dividend</th>\n",
       "      <th>Split Ratio</th>\n",
       "      <th>Adj. Open</th>\n",
       "      <th>Adj. High</th>\n",
       "      <th>Adj. Low</th>\n",
       "      <th>Adj. Close</th>\n",
       "      <th>Adj. Volume</th>\n",
       "    </tr>\n",
       "    <tr>\n",
       "      <th>Date</th>\n",
       "      <th></th>\n",
       "      <th></th>\n",
       "      <th></th>\n",
       "      <th></th>\n",
       "      <th></th>\n",
       "      <th></th>\n",
       "      <th></th>\n",
       "      <th></th>\n",
       "      <th></th>\n",
       "      <th></th>\n",
       "      <th></th>\n",
       "      <th></th>\n",
       "    </tr>\n",
       "  </thead>\n",
       "  <tbody>\n",
       "    <tr>\n",
       "      <th>2017-12-31</th>\n",
       "      <td>180.57</td>\n",
       "      <td>180.8</td>\n",
       "      <td>178.94</td>\n",
       "      <td>180.06</td>\n",
       "      <td>19766043.0</td>\n",
       "      <td>0.0</td>\n",
       "      <td>1.0</td>\n",
       "      <td>180.57</td>\n",
       "      <td>180.8</td>\n",
       "      <td>178.94</td>\n",
       "      <td>180.06</td>\n",
       "      <td>19766043.0</td>\n",
       "    </tr>\n",
       "  </tbody>\n",
       "</table>\n",
       "</div>"
      ],
      "text/plain": [
       "              Open   High     Low   Close      Volume  Ex-Dividend  \\\n",
       "Date                                                                 \n",
       "2017-12-31  180.57  180.8  178.94  180.06  19766043.0          0.0   \n",
       "\n",
       "            Split Ratio  Adj. Open  Adj. High  Adj. Low  Adj. Close  \\\n",
       "Date                                                                  \n",
       "2017-12-31          1.0     180.57      180.8    178.94      180.06   \n",
       "\n",
       "            Adj. Volume  \n",
       "Date                     \n",
       "2017-12-31   19766043.0  "
      ]
     },
     "execution_count": 8,
     "metadata": {},
     "output_type": "execute_result"
    }
   ],
   "source": [
    "# data is no longer actively maintained after 2017\n",
    "mydata = quandl.get(\"WIKI/FB\", collapse=\"annual\", start_date=\"2017-01-31\", end_date=\"2017-10-31\")\n",
    "mydata.head()"
   ]
  },
  {
   "cell_type": "code",
   "execution_count": 9,
   "metadata": {},
   "outputs": [
    {
     "data": {
      "text/html": [
       "<div>\n",
       "<style scoped>\n",
       "    .dataframe tbody tr th:only-of-type {\n",
       "        vertical-align: middle;\n",
       "    }\n",
       "\n",
       "    .dataframe tbody tr th {\n",
       "        vertical-align: top;\n",
       "    }\n",
       "\n",
       "    .dataframe thead th {\n",
       "        text-align: right;\n",
       "    }\n",
       "</style>\n",
       "<table border=\"1\" class=\"dataframe\">\n",
       "  <thead>\n",
       "    <tr style=\"text-align: right;\">\n",
       "      <th></th>\n",
       "      <th>Value</th>\n",
       "    </tr>\n",
       "    <tr>\n",
       "      <th>Date</th>\n",
       "      <th></th>\n",
       "    </tr>\n",
       "  </thead>\n",
       "  <tbody>\n",
       "    <tr>\n",
       "      <th>2017-04-01</th>\n",
       "      <td>19322.920</td>\n",
       "    </tr>\n",
       "    <tr>\n",
       "      <th>2017-07-01</th>\n",
       "      <td>19558.693</td>\n",
       "    </tr>\n",
       "    <tr>\n",
       "      <th>2017-10-01</th>\n",
       "      <td>19882.965</td>\n",
       "    </tr>\n",
       "  </tbody>\n",
       "</table>\n",
       "</div>"
      ],
      "text/plain": [
       "                Value\n",
       "Date                 \n",
       "2017-04-01  19322.920\n",
       "2017-07-01  19558.693\n",
       "2017-10-01  19882.965"
      ]
     },
     "execution_count": 9,
     "metadata": {},
     "output_type": "execute_result"
    }
   ],
   "source": [
    "gdp = quandl.get(\"FRED/GDP\", start_date=\"2017-01-31\", end_date=\"2017-10-31\")\n",
    "gdp.head()"
   ]
  },
  {
   "cell_type": "code",
   "execution_count": 12,
   "metadata": {},
   "outputs": [
    {
     "data": {
      "text/html": [
       "<div>\n",
       "<style scoped>\n",
       "    .dataframe tbody tr th:only-of-type {\n",
       "        vertical-align: middle;\n",
       "    }\n",
       "\n",
       "    .dataframe tbody tr th {\n",
       "        vertical-align: top;\n",
       "    }\n",
       "\n",
       "    .dataframe thead th {\n",
       "        text-align: right;\n",
       "    }\n",
       "</style>\n",
       "<table border=\"1\" class=\"dataframe\">\n",
       "  <thead>\n",
       "    <tr style=\"text-align: right;\">\n",
       "      <th></th>\n",
       "      <th>open</th>\n",
       "      <th>high</th>\n",
       "      <th>low</th>\n",
       "      <th>close</th>\n",
       "      <th>adjclose</th>\n",
       "      <th>volume</th>\n",
       "      <th>ticker</th>\n",
       "    </tr>\n",
       "  </thead>\n",
       "  <tbody>\n",
       "    <tr>\n",
       "      <th>2022-01-31</th>\n",
       "      <td>405.670013</td>\n",
       "      <td>413.970001</td>\n",
       "      <td>404.350006</td>\n",
       "      <td>413.690002</td>\n",
       "      <td>408.820312</td>\n",
       "      <td>9200400</td>\n",
       "      <td>VOO</td>\n",
       "    </tr>\n",
       "    <tr>\n",
       "      <th>2022-02-01</th>\n",
       "      <td>414.339996</td>\n",
       "      <td>417.040009</td>\n",
       "      <td>410.899994</td>\n",
       "      <td>416.390015</td>\n",
       "      <td>411.488495</td>\n",
       "      <td>8154900</td>\n",
       "      <td>VOO</td>\n",
       "    </tr>\n",
       "    <tr>\n",
       "      <th>2022-02-02</th>\n",
       "      <td>418.980011</td>\n",
       "      <td>421.179993</td>\n",
       "      <td>416.540009</td>\n",
       "      <td>420.359985</td>\n",
       "      <td>415.411743</td>\n",
       "      <td>6726500</td>\n",
       "      <td>VOO</td>\n",
       "    </tr>\n",
       "    <tr>\n",
       "      <th>2022-02-03</th>\n",
       "      <td>414.589996</td>\n",
       "      <td>416.429993</td>\n",
       "      <td>409.790009</td>\n",
       "      <td>410.589996</td>\n",
       "      <td>405.756775</td>\n",
       "      <td>7658300</td>\n",
       "      <td>VOO</td>\n",
       "    </tr>\n",
       "    <tr>\n",
       "      <th>2022-02-04</th>\n",
       "      <td>410.339996</td>\n",
       "      <td>416.239990</td>\n",
       "      <td>408.059998</td>\n",
       "      <td>412.519989</td>\n",
       "      <td>407.664062</td>\n",
       "      <td>8210000</td>\n",
       "      <td>VOO</td>\n",
       "    </tr>\n",
       "  </tbody>\n",
       "</table>\n",
       "</div>"
      ],
      "text/plain": [
       "                  open        high         low       close    adjclose  \\\n",
       "2022-01-31  405.670013  413.970001  404.350006  413.690002  408.820312   \n",
       "2022-02-01  414.339996  417.040009  410.899994  416.390015  411.488495   \n",
       "2022-02-02  418.980011  421.179993  416.540009  420.359985  415.411743   \n",
       "2022-02-03  414.589996  416.429993  409.790009  410.589996  405.756775   \n",
       "2022-02-04  410.339996  416.239990  408.059998  412.519989  407.664062   \n",
       "\n",
       "             volume ticker  \n",
       "2022-01-31  9200400    VOO  \n",
       "2022-02-01  8154900    VOO  \n",
       "2022-02-02  6726500    VOO  \n",
       "2022-02-03  7658300    VOO  \n",
       "2022-02-04  8210000    VOO  "
      ]
     },
     "execution_count": 12,
     "metadata": {},
     "output_type": "execute_result"
    }
   ],
   "source": [
    "ticker_list = [\"voo\", \"ba\"]\n",
    "historical_data = {}\n",
    "for ticker in ticker_list:\n",
    "    historical_data[ticker] = si.get_data(ticker, start_date=\"2022-01-31\", end_date=\"2022-10-31\")\n",
    "\n",
    "historical_data[\"voo\"].head()"
   ]
  },
  {
   "cell_type": "code",
   "execution_count": 2,
   "metadata": {},
   "outputs": [
    {
     "data": {
      "text/plain": [
       "{'AAP':                   open        high         low       close    adjclose  \\\n",
       " 2020-01-02  160.470001  160.949997  157.529999  159.410004  151.931366   \n",
       " 2020-01-03  158.029999  159.630005  157.250000  159.419998  151.940933   \n",
       " \n",
       "             volume ticker  \n",
       " 2020-01-02  944900    AAP  \n",
       " 2020-01-03  567000    AAP  ,\n",
       " 'AAPL':                  open       high        low      close   adjclose     volume  \\\n",
       " 2020-01-02  74.059998  75.150002  73.797501  75.087502  73.561539  135480400   \n",
       " 2020-01-03  74.287498  75.144997  74.125000  74.357498  72.846375  146322800   \n",
       " \n",
       "            ticker  \n",
       " 2020-01-02   AAPL  \n",
       " 2020-01-03   AAPL  ,\n",
       " 'ABBV':                  open       high        low      close   adjclose   volume  \\\n",
       " 2020-01-02  89.080002  89.570000  88.510002  89.550003  77.932617  5639200   \n",
       " 2020-01-03  88.169998  89.389999  87.900002  88.699997  77.192871  5988500   \n",
       " \n",
       "            ticker  \n",
       " 2020-01-02   ABBV  \n",
       " 2020-01-03   ABBV  ,\n",
       " 'ABC':                  open       high        low      close   adjclose  volume  \\\n",
       " 2020-01-02  85.639999  85.800003  84.339996  85.080002  81.311180  817600   \n",
       " 2020-01-03  83.809998  85.070000  83.269997  84.010002  80.288567  801500   \n",
       " \n",
       "            ticker  \n",
       " 2020-01-02    ABC  \n",
       " 2020-01-03    ABC  }"
      ]
     },
     "execution_count": 2,
     "metadata": {},
     "output_type": "execute_result"
    }
   ],
   "source": [
    "sp500_list = si.tickers_sp500()\n",
    "sp500_list = sp500_list[2:6]\n",
    "sp500_historical = {}\n",
    "for ticker in sp500_list:\n",
    "    sp500_historical[ticker] = si.get_data(ticker, start_date=\"01/01/2020\", end_date=\"01/05/2020\", interval=\"1d\")\n",
    "\n",
    "sp500_historical"
   ]
  },
  {
   "cell_type": "code",
   "execution_count": 5,
   "metadata": {},
   "outputs": [],
   "source": [
    "eod_api_key = '637eb26fb1dc30.49499477'"
   ]
  },
  {
   "cell_type": "code",
   "execution_count": 6,
   "metadata": {},
   "outputs": [],
   "source": [
    "def get_ticker_news(ticker, start_date, end_date, n_news, eod_api_key, offset = 0):\n",
    "    url = f'https://eodhistoricaldata.com/api/news?api_token={eod_api_key}&s={ticker}&limit={n_news}&offset={offset}&from={start_date}&to={end_date}'\n",
    "    news_json = requests.get(url).json()\n",
    "    news = []\n",
    "    for i in range(len(news_json)):\n",
    "        date = news_json[-i]['date']\n",
    "        title = news_json[-i]['title']\n",
    "        news.append([ticker, date, title])\n",
    "        \n",
    "    return pd.DataFrame(news, columns=['ticker', 'date', 'title'])"
   ]
  },
  {
   "cell_type": "code",
   "execution_count": 8,
   "metadata": {},
   "outputs": [],
   "source": [
    "aapl_news = get_ticker_news('AAPL', '2021-11-01', '2022-10-31', 1000, eod_api_key, offset = 0)"
   ]
  },
  {
   "cell_type": "code",
   "execution_count": 10,
   "metadata": {},
   "outputs": [],
   "source": [
    "aapl_news.to_csv('/Users/chiuchristine/Documents/dev_projects/trading/data/aapl_news.csv')"
   ]
  },
  {
   "cell_type": "code",
   "execution_count": 12,
   "metadata": {},
   "outputs": [
    {
     "name": "stderr",
     "output_type": "stream",
     "text": [
      "/var/folders/cr/xvzrmgvx63z4z13tgv6lt0rh0000gn/T/ipykernel_3572/2020985244.py:10: FutureWarning: username is deprecated, use user.username instead\n",
      "  tweets.append([tweet.date, tweet.username, tweet.content])\n"
     ]
    }
   ],
   "source": [
    "# from advanced search, copy the query in the search bar\n",
    "query = \"(amazon OR google OR meta) min_replies:50 min_faves:100 min_retweets:200 lang:en until:2022-11-20 since:2020-01-01\"\n",
    "tweets = []\n",
    "limit = 300\n",
    "\n",
    "for tweet in sntwitter.TwitterSearchScraper(query).get_items():   \n",
    "    if len(tweets) == limit:\n",
    "      break\n",
    "    else:\n",
    "      tweets.append([tweet.date, tweet.username, tweet.content])\n",
    "df = pd.DataFrame(tweets, columns=['Date', 'User', 'Tweet'])"
   ]
  },
  {
   "cell_type": "code",
   "execution_count": 13,
   "metadata": {},
   "outputs": [
    {
     "name": "stdout",
     "output_type": "stream",
     "text": [
      "                       Date            User  \\\n",
      "0 2022-11-19 23:34:29+00:00         PGDynes   \n",
      "1 2022-11-19 23:14:56+00:00      Andie00471   \n",
      "2 2022-11-19 22:31:16+00:00    OnlyBTStream   \n",
      "3 2022-11-19 20:47:09+00:00   DavidHundeyin   \n",
      "4 2022-11-19 20:46:14+00:00  AstroBabiesNFT   \n",
      "\n",
      "                                               Tweet  \n",
      "0  “According to the WWF report, 35% of the Amazo...  \n",
      "1  Twitter tip: Don't ever post a pic on Twitter ...  \n",
      "2  ⚽️BTS WORLD CUP THE FINAL⚽️\\n\\n🔥YOUTUBE CHALLE...  \n",
      "3  If you enjoyed the @WestAfricaWeek documentary...  \n",
      "4  Traditional onlinegambling 🎰combined with meta...  \n"
     ]
    }
   ],
   "source": [
    "print(df.head())"
   ]
  },
  {
   "cell_type": "code",
   "execution_count": null,
   "metadata": {},
   "outputs": [],
   "source": []
  }
 ],
 "metadata": {
  "kernelspec": {
   "display_name": "Python 3.11.0 ('.venv': venv)",
   "language": "python",
   "name": "python3"
  },
  "language_info": {
   "codemirror_mode": {
    "name": "ipython",
    "version": 3
   },
   "file_extension": ".py",
   "mimetype": "text/x-python",
   "name": "python",
   "nbconvert_exporter": "python",
   "pygments_lexer": "ipython3",
   "version": "3.11.0"
  },
  "orig_nbformat": 4,
  "vscode": {
   "interpreter": {
    "hash": "9d60ee4a95b8ba7b0bee3e030c3280a06f28d970ae7fb56981a37f21f454c441"
   }
  }
 },
 "nbformat": 4,
 "nbformat_minor": 2
}
